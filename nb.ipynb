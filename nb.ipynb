{
 "cells": [
  {
   "cell_type": "code",
   "execution_count": 1,
   "metadata": {},
   "outputs": [
    {
     "data": {
      "text/plain": [
       "[1, 2, 4]"
      ]
     },
     "execution_count": 1,
     "metadata": {},
     "output_type": "execute_result"
    }
   ],
   "source": [
    "\n",
    "class Identifiers:\n",
    "    MAJOR = (\"major\", \"big\")\n",
    "    MINOR = (\"minor\", \"small\")\n",
    "    PATCH = (\"patch\", \"fix\")\n",
    "    \n",
    "    @classmethod\n",
    "    def names(cls) -> tuple[str, ...]:\n",
    "        return cls.MAJOR + cls.MINOR + cls.PATCH\n",
    "    \n",
    "    @classmethod \n",
    "    def names_repr(cls) -> str:\n",
    "        return \", \".join(list(map(repr, cls.names())))\n",
    "    \n",
    "    \n",
    "\n",
    "def update_version_info(version_info: list[int], identifier: str) -> list[int]:    \n",
    "    if not identifier in Identifiers.names():\n",
    "        raise ValueError(\n",
    "            f\"Expected one of {Identifiers.names_repr()}. Got: {identifier.lower()!r}\"\n",
    "        )\n",
    "        \n",
    "    if identifier.lower() in Identifiers.MAJOR:\n",
    "        version_info[0] += 1\n",
    "        version_info[1] = 0\n",
    "        version_info[2] = 0\n",
    "    elif identifier.lower() in Identifiers.MINOR:\n",
    "        version_info[1] += 1\n",
    "        version_info[2] = 0\n",
    "    elif identifier.lower() in Identifiers.PATCH:\n",
    "        version_info[2] += 1\n",
    "    \n",
    "\n",
    "    return version_info\n",
    "\n",
    "update_version_info([1, 2, 3], \"fix\") \n"
   ]
  },
  {
   "cell_type": "code",
   "execution_count": 17,
   "metadata": {},
   "outputs": [
    {
     "name": "stdout",
     "output_type": "stream",
     "text": [
      "[1, 0, 0]\n",
      "[1, 0, 1]\n"
     ]
    }
   ],
   "source": [
    "from version_updater2._version import __version_info__ as version_info\n",
    "\n",
    "print(version_info)\n",
    "new_version_info = update_version_info(version_info.copy(), \"fix\")\n",
    "print(new_version_info)"
   ]
  },
  {
   "cell_type": "code",
   "execution_count": 42,
   "metadata": {},
   "outputs": [
    {
     "data": {
      "text/plain": [
       "80"
      ]
     },
     "execution_count": 42,
     "metadata": {},
     "output_type": "execute_result"
    }
   ],
   "source": [
    "from pathlib import Path\n",
    "\n",
    "current_content = Path(\"version_updater2/_version.py\").read_text()\n",
    "\n",
    "def info2version(info: list[int])-> str: \n",
    "    return \".\".join(list(map(str, info)))\n",
    "\n",
    "version = info2version(version_info.copy())\n",
    "new_version = info2version(new_version_info)\n",
    "\n",
    "new_content = current_content.replace(\n",
    "f'__version__ = \"{version}\"',\n",
    "f'__version__ = \"{new_version}\"'\n",
    ")\n",
    "\n",
    "Path(\"version_updater2/_version.py\").write_text(new_content)\n",
    "\n"
   ]
  },
  {
   "cell_type": "code",
   "execution_count": 96,
   "metadata": {},
   "outputs": [],
   "source": [
    "import re\n",
    "from dataclasses import dataclass\n",
    "from pathlib import Path\n",
    "import subprocess\n",
    "\n",
    "\n",
    "class Identifiers:\n",
    "    MAJOR = (\"major\", \"big\")\n",
    "    MINOR = (\"minor\", \"small\")\n",
    "    PATCH = (\"patch\", \"fix\")\n",
    "\n",
    "    @classmethod\n",
    "    def names(cls) -> tuple[str, ...]:\n",
    "        return cls.MAJOR + cls.MINOR + cls.PATCH\n",
    "\n",
    "    @classmethod\n",
    "    def names_repr(cls) -> str:\n",
    "        return \", \".join(list(map(repr, cls.names())))\n",
    "\n",
    "\n",
    "@dataclass\n",
    "class MultipleFilesFoundError(OSError):\n",
    "    files: list[Path]\n",
    "\n",
    "    def __str__(self):\n",
    "        files = \", \".join(map(str, self.files))\n",
    "        return f\"Found more than one file with the same name: {files}\"\n",
    "\n",
    "\n",
    "def find_version_file_path() -> Path:\n",
    "    version_files = list(Path(\".\").rglob(\"_version.py\"))\n",
    "    if len(version_files) == 1:\n",
    "        return version_files[0]\n",
    "    elif len(version_files) > 1:\n",
    "        raise MultipleFilesFoundError(version_files)\n",
    "\n",
    "    _help = \"Run the following: echo '__version__ = \\\"1.0.0\\\"' > _version.py\\n\"\n",
    "    raise FileNotFoundError(f\"Could not find _version.py. {_help}\")\n",
    "\n",
    "\n",
    "def extract_version_from_file(pyversion_file: Path) -> str:\n",
    "    version_file_content = pyversion_file.read_text()\n",
    "    match = re.compile(r'__version__ = \"(?P<version>\\d+\\.\\d+\\.\\d+)\"').match(\n",
    "        version_file_content\n",
    "    )\n",
    "    if not match:\n",
    "        raise ValueError(\"Could not find version in _version.py\")\n",
    "\n",
    "    version = match.groupdict()[\"version\"]\n",
    "    return version\n",
    "\n",
    "\n",
    "def update_version_file(pyversion_file: Path, version: str, new_version: str) -> None:\n",
    "    current_content = pyversion_file.read_text()\n",
    "    new_content = current_content.replace(\n",
    "        f'__version__ = \"{version}\"', f'__version__ = \"{new_version}\"'\n",
    "    )\n",
    "    pyversion_file.write_text(new_content)\n",
    "    \n",
    "def tag(file:Path, version:str, message: str) -> None:\n",
    "    # Check if version was updated/is waiting to be committed\n",
    "    proc = subprocess.run(f\"git status {file}\", shell=True, capture_output=True)\n",
    "    if \"nothing to commit, working tree clean\" in proc.stdout.decode():\n",
    "        raise RuntimeError(\"Version was not updated for some reason.\")\n",
    "    # Add, commit, tag . Return code 0 means success\n",
    "    assert 0 == subprocess.call(f\"git add {file}\", shell=True)\n",
    "    assert 0 == subprocess.call(f\"git commit -m \\\"chore: version updated\\\"\", shell=True)\n",
    "    assert 0 == subprocess.call(f\"git tag {version}\", shell=True)\n",
    "    \n",
    "\n",
    "\n",
    "\n",
    "def update_version_info(version_info: list[int], identifier: str) -> list[int]:\n",
    "    if identifier not in Identifiers.names():\n",
    "        raise ValueError(\n",
    "            f\"Expected one of {Identifiers.names_repr()}. Got: {identifier.lower()!r}\"\n",
    "        )\n",
    "\n",
    "    if identifier.lower() in Identifiers.MAJOR:\n",
    "        version_info[0] += 1\n",
    "        version_info[1] = 0\n",
    "        version_info[2] = 0\n",
    "    elif identifier.lower() in Identifiers.MINOR:\n",
    "        version_info[1] += 1\n",
    "        version_info[2] = 0\n",
    "    elif identifier.lower() in Identifiers.PATCH:\n",
    "        version_info[2] += 1\n",
    "\n",
    "    return version_info\n",
    "\n",
    "\n",
    "def version2info(version: str) -> list[int]:\n",
    "    return list(map(int, version.split(\".\")))\n",
    "\n",
    "\n",
    "def info2version(info: list[int]) -> str:\n",
    "    return \".\".join(list(map(str, info)))\n",
    "\n",
    "\n",
    "\n",
    "VERSION_FILE = find_version_file_path()\n",
    "\n",
    "version = extract_version_from_file(VERSION_FILE)\n",
    "version_info = version2info(version)\n",
    "\n",
    "new_version_info = update_version_info(version_info, \"fix\")\n",
    "new_version = info2version(new_version_info)\n",
    "\n",
    "update_version_file(VERSION_FILE, version, new_version)\n"
   ]
  },
  {
   "cell_type": "code",
   "execution_count": 105,
   "metadata": {},
   "outputs": [
    {
     "data": {
      "text/plain": [
       "'-m \"fix: something\" -m \"feat: other\" -m \"chore: version updated\"'"
      ]
     },
     "execution_count": 105,
     "metadata": {},
     "output_type": "execute_result"
    }
   ],
   "source": [
    "msg=\"\"\"\n",
    "fix: something\n",
    "feat: other\n",
    "chore: version updated\n",
    "\"\"\"\n",
    "\n",
    "def prepare_tag_message(msg: str) -> str:\n",
    "    msg_lines = msg.split(\"\\n\")\n",
    "    msg_lines = [line.strip() for line in msg_lines if line.strip()]\n",
    "    msg = \" \".join(f'-m \"{line}\"' for line in msg_lines)\n",
    "    return msg\n",
    "\n",
    "prepare_tag_message(msg)"
   ]
  },
  {
   "cell_type": "code",
   "execution_count": 161,
   "metadata": {},
   "outputs": [
    {
     "data": {
      "text/plain": [
       "Namespace(action='tag', tag_message='feat: something')"
      ]
     },
     "execution_count": 161,
     "metadata": {},
     "output_type": "execute_result"
    }
   ],
   "source": [
    "import argparse\n",
    "\n",
    "def get_parser() -> argparse.ArgumentParser:\n",
    "    parser = argparse.ArgumentParser(\n",
    "        description=\"Update version and tag it with a message\"\n",
    "    )\n",
    "    \n",
    "    sub_parser = parser.add_subparsers(dest=\"action\", required=True)\n",
    "    update_parser = sub_parser.add_parser(\"update\")\n",
    "    update_parser.add_argument(\n",
    "        \"identifier\",\n",
    "        type=str,\n",
    "        choices=Identifiers.names(),\n",
    "        help=\"Which part of the version to update\",\n",
    "    )\n",
    "    update_parser.add_argument(\n",
    "        \"-t\",\n",
    "        \"--tag\",\n",
    "        type=str,\n",
    "        nargs=\"?\",\n",
    "        const=\"\",\n",
    "        default=None,\n",
    "        dest=\"tag_message\",\n",
    "        help=\"Tag the version with a message\",\n",
    "    )\n",
    "    tag_parser = sub_parser.add_parser(\"tag\")\n",
    "    tag_parser.add_argument(\n",
    "        \"tag_message\",\n",
    "        type=str,\n",
    "        nargs=\"?\",\n",
    "        default=\"\",\n",
    "        help=\"Tag the version with a message\",\n",
    "    )\n",
    "    \n",
    "    return  parser\n",
    "    \n",
    "\n",
    "def get_args() -> argparse.Namespace:\n",
    "    parser = get_parser()\n",
    "    # args = parser.parse_args([\"update\",\"fix\"])\n",
    "    # args = parser.parse_args([\"update\",\"fix\", \"--tag\"])\n",
    "    # args = parser.parse_args([\"update\",\"fix\",\"--tag\",\"feat: something\"])\n",
    "    # args = parser.parse_args([\"tag\"])\n",
    "    args = parser.parse_args([\"tag\",\"feat: something\"])\n",
    "    return args\n",
    "\n",
    "get_args()\n",
    "\n",
    "# parser = get_parser()\n",
    "# for act in parser._actions:\n",
    "#     print(act.dest)"
   ]
  },
  {
   "cell_type": "code",
   "execution_count": 124,
   "metadata": {},
   "outputs": [
    {
     "data": {
      "text/plain": [
       "True"
      ]
     },
     "execution_count": 124,
     "metadata": {},
     "output_type": "execute_result"
    }
   ],
   "source": []
  },
  {
   "cell_type": "code",
   "execution_count": 97,
   "metadata": {},
   "outputs": [
    {
     "name": "stdout",
     "output_type": "stream",
     "text": [
      "[master c240461] chore: version updated\n",
      " 2 files changed, 44 insertions(+), 18 deletions(-)\n"
     ]
    }
   ],
   "source": [
    "import subprocess\n",
    "\n",
    "def tag(file:Path, version:str, message: str) -> None:\n",
    "    # Check if version was updated/is waiting to be committed\n",
    "    proc = subprocess.run(f\"git status {file}\", shell=True, capture_output=True)\n",
    "    if \"nothing to commit, working tree clean\" in proc.stdout.decode():\n",
    "        raise RuntimeError(\"Version was not updated for some reason.\")\n",
    "    # Add, commit, tag . Return code 0 means success\n",
    "    assert 0 == subprocess.call(f\"git add {file}\", shell=True)\n",
    "    assert 0 == subprocess.call(f\"git commit -m \\\"chore: version updated\\\"\", shell=True)\n",
    "    assert 0 == subprocess.call(f\"git tag {version}\", shell=True)\n",
    "    \n",
    "\n",
    "tag(VERSION_FILE, new_version, \"Version updated.\")"
   ]
  }
 ],
 "metadata": {
  "kernelspec": {
   "display_name": "base",
   "language": "python",
   "name": "python3"
  },
  "language_info": {
   "codemirror_mode": {
    "name": "ipython",
    "version": 3
   },
   "file_extension": ".py",
   "mimetype": "text/x-python",
   "name": "python",
   "nbconvert_exporter": "python",
   "pygments_lexer": "ipython3",
   "version": "3.11.3"
  },
  "orig_nbformat": 4
 },
 "nbformat": 4,
 "nbformat_minor": 2
}
