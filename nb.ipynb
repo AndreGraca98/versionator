{
 "cells": [
  {
   "cell_type": "code",
   "execution_count": 1,
   "metadata": {},
   "outputs": [
    {
     "data": {
      "text/plain": [
       "[1, 2, 4]"
      ]
     },
     "execution_count": 1,
     "metadata": {},
     "output_type": "execute_result"
    }
   ],
   "source": [
    "\n",
    "class Identifiers:\n",
    "    MAJOR = (\"major\", \"big\")\n",
    "    MINOR = (\"minor\", \"small\")\n",
    "    PATCH = (\"patch\", \"fix\")\n",
    "    \n",
    "    @classmethod\n",
    "    def names(cls) -> tuple[str, ...]:\n",
    "        return cls.MAJOR + cls.MINOR + cls.PATCH\n",
    "    \n",
    "    @classmethod \n",
    "    def names_repr(cls) -> str:\n",
    "        return \", \".join(list(map(repr, cls.names())))\n",
    "    \n",
    "    \n",
    "\n",
    "def update_version_info(version_info: list[int], identifier: str) -> list[int]:    \n",
    "    if not identifier in Identifiers.names():\n",
    "        raise ValueError(\n",
    "            f\"Expected one of {Identifiers.names_repr()}. Got: {identifier.lower()!r}\"\n",
    "        )\n",
    "        \n",
    "    if identifier.lower() in Identifiers.MAJOR:\n",
    "        version_info[0] += 1\n",
    "        version_info[1] = 0\n",
    "        version_info[2] = 0\n",
    "    elif identifier.lower() in Identifiers.MINOR:\n",
    "        version_info[1] += 1\n",
    "        version_info[2] = 0\n",
    "    elif identifier.lower() in Identifiers.PATCH:\n",
    "        version_info[2] += 1\n",
    "    \n",
    "\n",
    "    return version_info\n",
    "\n",
    "update_version_info([1, 2, 3], \"fix\") \n"
   ]
  },
  {
   "cell_type": "code",
   "execution_count": 17,
   "metadata": {},
   "outputs": [
    {
     "name": "stdout",
     "output_type": "stream",
     "text": [
      "[1, 0, 0]\n",
      "[1, 0, 1]\n"
     ]
    }
   ],
   "source": [
    "from version_updater2._version import __version_info__ as version_info\n",
    "\n",
    "print(version_info)\n",
    "new_version_info = update_version_info(version_info.copy(), \"fix\")\n",
    "print(new_version_info)"
   ]
  },
  {
   "cell_type": "code",
   "execution_count": 42,
   "metadata": {},
   "outputs": [
    {
     "data": {
      "text/plain": [
       "80"
      ]
     },
     "execution_count": 42,
     "metadata": {},
     "output_type": "execute_result"
    }
   ],
   "source": [
    "from pathlib import Path\n",
    "\n",
    "current_content = Path(\"version_updater2/_version.py\").read_text()\n",
    "\n",
    "def info2version(info: list[int])-> str: \n",
    "    return \".\".join(list(map(str, info)))\n",
    "\n",
    "version = info2version(version_info.copy())\n",
    "new_version = info2version(new_version_info)\n",
    "\n",
    "new_content = current_content.replace(\n",
    "f'__version__ = \"{version}\"',\n",
    "f'__version__ = \"{new_version}\"'\n",
    ")\n",
    "\n",
    "Path(\"version_updater2/_version.py\").write_text(new_content)\n",
    "\n"
   ]
  },
  {
   "cell_type": "code",
   "execution_count": 69,
   "metadata": {},
   "outputs": [],
   "source": [
    "import re\n",
    "from dataclasses import dataclass\n",
    "from pathlib import Path\n",
    "\n",
    "\n",
    "class Identifiers:\n",
    "    MAJOR = (\"major\", \"big\")\n",
    "    MINOR = (\"minor\", \"small\")\n",
    "    PATCH = (\"patch\", \"fix\")\n",
    "\n",
    "    @classmethod\n",
    "    def names(cls) -> tuple[str, ...]:\n",
    "        return cls.MAJOR + cls.MINOR + cls.PATCH\n",
    "\n",
    "    @classmethod\n",
    "    def names_repr(cls) -> str:\n",
    "        return \", \".join(list(map(repr, cls.names())))\n",
    "\n",
    "\n",
    "@dataclass\n",
    "class MultipleFilesFoundError(OSError):\n",
    "    files: list[Path]\n",
    "\n",
    "    def __str__(self):\n",
    "        files = \", \".join(map(str, self.files))\n",
    "        return f\"Found more than one file with the same name: {files}\"\n",
    "\n",
    "\n",
    "def find_version_file_path() -> Path:\n",
    "    version_files = list(Path(\".\").rglob(\"_version.py\"))\n",
    "    if len(version_files) == 1:\n",
    "        return version_files[0]\n",
    "    elif len(version_files) > 1:\n",
    "        raise MultipleFilesFoundError(version_files)\n",
    "\n",
    "    _help = \"Run the following: echo '__version__ = \\\"1.0.0\\\"' > _version.py\\n\"\n",
    "    raise FileNotFoundError(f\"Could not find _version.py. {_help}\")\n",
    "\n",
    "\n",
    "def extract_version_from_file(pyversion_file: Path) -> str:\n",
    "    version_file_content = pyversion_file.read_text()\n",
    "    match = re.compile(r'__version__ = \"(?P<version>\\d+\\.\\d+\\.\\d+)\"').match(\n",
    "        version_file_content\n",
    "    )\n",
    "    if not match:\n",
    "        raise ValueError(\"Could not find version in _version.py\")\n",
    "\n",
    "    version = match.groupdict()[\"version\"]\n",
    "    return version\n",
    "\n",
    "\n",
    "def update_version_file(pyversion_file: Path, version: str, new_version: str) -> None:\n",
    "    current_content = pyversion_file.read_text()\n",
    "    new_content = current_content.replace(\n",
    "        f'__version__ = \"{version}\"', f'__version__ = \"{new_version}\"'\n",
    "    )\n",
    "    pyversion_file.write_text(new_content)\n",
    "\n",
    "\n",
    "def update_version_info(version_info: list[int], identifier: str) -> list[int]:\n",
    "    if identifier not in Identifiers.names():\n",
    "        raise ValueError(\n",
    "            f\"Expected one of {Identifiers.names_repr()}. Got: {identifier.lower()!r}\"\n",
    "        )\n",
    "\n",
    "    if identifier.lower() in Identifiers.MAJOR:\n",
    "        version_info[0] += 1\n",
    "        version_info[1] = 0\n",
    "        version_info[2] = 0\n",
    "    elif identifier.lower() in Identifiers.MINOR:\n",
    "        version_info[1] += 1\n",
    "        version_info[2] = 0\n",
    "    elif identifier.lower() in Identifiers.PATCH:\n",
    "        version_info[2] += 1\n",
    "\n",
    "    return version_info\n",
    "\n",
    "\n",
    "def version2info(version: str) -> list[int]:\n",
    "    return list(map(int, version.split(\".\")))\n",
    "\n",
    "\n",
    "def info2version(info: list[int]) -> str:\n",
    "    return \".\".join(list(map(str, info)))\n",
    "\n",
    "\n",
    "\n",
    "VERSION_FILE = find_version_file_path()\n",
    "\n",
    "version = extract_version_from_file(VERSION_FILE)\n",
    "version_info = version2info(version)\n",
    "\n",
    "new_version_info = update_version_info(version_info, \"fix\")\n",
    "new_version = info2version(new_version_info)\n",
    "\n",
    "update_version_file(VERSION_FILE, version, new_version)\n"
   ]
  },
  {
   "cell_type": "code",
   "execution_count": null,
   "metadata": {},
   "outputs": [],
   "source": []
  },
  {
   "cell_type": "code",
   "execution_count": 55,
   "metadata": {},
   "outputs": [
    {
     "name": "stdout",
     "output_type": "stream",
     "text": [
      "__version__ = \"1.0.0\"\n",
      "\n"
     ]
    },
    {
     "data": {
      "text/plain": [
       "22"
      ]
     },
     "execution_count": 55,
     "metadata": {},
     "output_type": "execute_result"
    }
   ],
   "source": [
    "example_version = \"__version__ = \\\"1.0.0\\\"\\n\"\n",
    "print(a)\n",
    "\n",
    "Path(\"f.py\").write_text(a)"
   ]
  }
 ],
 "metadata": {
  "kernelspec": {
   "display_name": "base",
   "language": "python",
   "name": "python3"
  },
  "language_info": {
   "codemirror_mode": {
    "name": "ipython",
    "version": 3
   },
   "file_extension": ".py",
   "mimetype": "text/x-python",
   "name": "python",
   "nbconvert_exporter": "python",
   "pygments_lexer": "ipython3",
   "version": "3.11.3"
  },
  "orig_nbformat": 4
 },
 "nbformat": 4,
 "nbformat_minor": 2
}
